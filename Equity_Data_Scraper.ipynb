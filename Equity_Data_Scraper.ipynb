{
 "cells": [
  {
   "cell_type": "code",
   "execution_count": 2,
   "id": "f6cb6e87-9064-48fa-9250-3c013158dd9b",
   "metadata": {},
   "outputs": [],
   "source": [
    "#Import Libraries\n",
    "import requests\n",
    "import json\n",
    "import pandas as pd\n",
    "from bs4 import BeautifulSoup\n",
    "from urllib.request import Request, urlopen"
   ]
  },
  {
   "cell_type": "code",
   "execution_count": 10,
   "id": "a1a30e0c-71cf-405c-816d-c820c4208282",
   "metadata": {},
   "outputs": [],
   "source": [
    "def get_income_statement(ticker, period, limit, key):\n",
    "    \"\"\" The function given a ticker, period, limit, and key as inputs gets the income statement data from financialmodellingprep.\n",
    "    \n",
    "    Args:\n",
    "        ticker (str): A string representing the equity the function will scrape the data for.\n",
    "        period (str): A string representing the period for which we are getting the data - Annual or Quarter.\n",
    "        limit (int): An integer representing the limit of calls to the API.\n",
    "        key (str): A string representing your API key.\n",
    "        \n",
    "    Returns:\n",
    "        income_statement (DataFrame): The pandas dataframe containing the income statement data for the specified ticker from financialmodellingprep.\n",
    "    \"\"\"\n",
    "    \n",
    "    url = 'https://financialmodelingprep.com/api/v3/income-statement/'\n",
    "\n",
    "    try:\n",
    "        api_url = requests.get('{}{}?period={}?limit={}&apikey={}'.format(url, ticker, period, limit, key))\n",
    "        income_statement = pd.DataFrame.from_dict(api_url.json()).transpose()\n",
    "        income_statement.columns = income_statement.iloc[0]\n",
    "        return income_statement[1:-2]\n",
    "\n",
    "    except requests.exceptions.HTTPError as e:\n",
    "        print('Requesting Income Statement ERROR: ', str(e))"
   ]
  },
  {
   "cell_type": "code",
   "execution_count": 12,
   "id": "2cb5e2bf-28b6-4d2b-9cc7-71c01e886f2c",
   "metadata": {},
   "outputs": [],
   "source": [
    "def get_balance_sheet(ticker, period, limit, key):\n",
    "    \"\"\" The function given a ticker, period, limit, and key as inputs gets the balance sheet data from financialmodellingprep.\n",
    "    \n",
    "    Args:\n",
    "        ticker (str): A string representing the equity the function will scrape the data for.\n",
    "        period (str): A string representing the period for which we are getting the data - Annual or Quarter.\n",
    "        limit (int): An integer representing the limit of calls to the API.\n",
    "        key (str): A string representing your API key.\n",
    "        \n",
    "    Returns:\n",
    "        balance_statement (DataFrame): The pandas dataframe containing the balance sheet data for the specified ticker from financialmodellingprep.\n",
    "    \"\"\"\n",
    "    \n",
    "    url = 'https://financialmodelingprep.com/api/v3/balance-sheet-statement/'\n",
    "\n",
    "    try:\n",
    "        api_url = requests.get('{}{}?period={}?limit={}&apikey={}'.format(url, ticker, period, limit, key))\n",
    "        balance_sheet = pd.DataFrame.from_dict(api_url.json()).transpose()\n",
    "        balance_sheet.columns = balance_sheet.iloc[0]\n",
    "        return balance_sheet[1:-2]\n",
    "\n",
    "    except requests.exceptions.HTTPError as e:\n",
    "        print('Requesting Balance Sheet ERROR: ', str(e))"
   ]
  },
  {
   "cell_type": "code",
   "execution_count": 14,
   "id": "2689d3bf-475e-48c6-98a5-e0589bb43ede",
   "metadata": {},
   "outputs": [],
   "source": [
    "def get_cash_flow_statement(ticker, period, limit, key):\n",
    "    \"\"\" The function given a ticker, period, limit, and key as inputs gets the cash flow statement data from financialmodellingprep.\n",
    "    \n",
    "    Args:\n",
    "        ticker (str): A string representing the equity the function will scrape the data for.\n",
    "        period (str): A string representing the period for which we are getting the data - Annual or Quarter.\n",
    "        limit (int): An integer representing the limit of calls to the API.\n",
    "        key (str): A string representing your API key.\n",
    "        \n",
    "    Returns:\n",
    "        cash_flow_statement (DataFrame): The pandas dataframe containing the cash flow statement data for the specified ticker from financialmodellingprep.\n",
    "    \"\"\"\n",
    "    \n",
    "    url = 'https://financialmodelingprep.com/api/v3/cash-flow-statement/'\n",
    "\n",
    "    try:\n",
    "        api_url = requests.get('{}{}?period={}?limit={}&apikey={}'.format(url, ticker, period, limit, key))\n",
    "        cash_flow_statement = pd.DataFrame.from_dict(api_url.json()).transpose()\n",
    "        cash_flow_statement.columns = cash_flow_statement.iloc[0]\n",
    "        return cash_flow_statement[1:-2]\n",
    "\n",
    "    except requests.exceptions.HTTPError as e:\n",
    "        print('Requesting Cash Flow Statement ERROR: ', str(e))"
   ]
  },
  {
   "cell_type": "code",
   "execution_count": 22,
   "id": "34de3f16-edc0-4a3c-a40d-06d6ac650528",
   "metadata": {},
   "outputs": [],
   "source": [
    "#Setting variables for the equity you want to export the data for\n",
    "ticker = 'NVDA'\n",
    "period = 'Annual'\n",
    "limit = 20\n",
    "key = 'enter_your_api_key'\n",
    "\n",
    "#Setting variables referencing the Income Statement, Balance Sheet, and Cash Flow Statement\n",
    "income_statement = get_income_statement(ticker, period, limit, key)\n",
    "balance_sheet = get_balance_sheet(ticker, period, limit, key)\n",
    "cash_flow_statement = get_cash_flow_statement(ticker, period, limit, key)\n",
    "\n",
    "#Exporting the statements to Excel\n",
    "with pd.ExcelWriter('{}_{}_Financial_Statements.xlsx'.format(ticker, period)) as writer:\n",
    "    income_statement.to_excel(writer, sheet_name='Income Statement')\n",
    "    balance_sheet.to_excel(writer, sheet_name='Balance Sheet')\n",
    "    cash_flow_statement.to_excel(writer, sheet_name='Cash Flow Statement')"
   ]
  }
 ],
 "metadata": {
  "kernelspec": {
   "display_name": "Python 3 (ipykernel)",
   "language": "python",
   "name": "python3"
  },
  "language_info": {
   "codemirror_mode": {
    "name": "ipython",
    "version": 3
   },
   "file_extension": ".py",
   "mimetype": "text/x-python",
   "name": "python",
   "nbconvert_exporter": "python",
   "pygments_lexer": "ipython3",
   "version": "3.9.2"
  }
 },
 "nbformat": 4,
 "nbformat_minor": 5
}
